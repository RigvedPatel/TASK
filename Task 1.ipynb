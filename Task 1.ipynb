import pandas as pd
import numpy as np
import matplotlib.pyplot as plt

# Load data
data = pd.read_csv("student_performance.csv")

while True: 
      print("1. Total number of students")
      print("2. Students who studied > 2 hours")
      print("3. Students who passed")
      print("4. Students who studied > 2h and passed")
      print("5. Percentage of passed among >2h students")
      print("6. Using Bayes Theoram []")
      print("0. Exit the menu driven")
      ch=input("Enter a choice[0-5]")

      if ch == '1':
        print("Total students:", len(data))

      elif ch == '2':
        studied_2h = data[data['study_hours_per_day'] > 2]
        print("Studied > 2h:", len(studied_2h))

      elif ch == '3':
        passed = data[data['exam_score'] >= 40 ]
        print("Passed:", len(passed))

      elif ch == '4':
        both = data[(data['study_hours_per_day'] > 2) & (data['exam_score'] == 'yes')]
        print("Studied >2h and Passed:", len(both))

      elif ch == '5':
        both = data[(data['study_hours_per_day'] > 2) & (data['exam_score'] == 'yes')]
        studied_2h = data[data['study_hours_per_day'] > 2]
        num1= len(both)
        num2= len(studied_2h)
        percentage = (num1 / num2) * 100
        print("Percentage Passes:", percentage , '%')
      
      elif ch == '6':
        total = len(data)
        studied_2h = data[data['study_hours_per_day'] > 2]
        passed = data[data['exam_score'] == 'yes']
        both = data[(data['study_hours_per_day'] > 2) & (data['exam_score'] == 'yes')]

        p_A = len(studied_2h) / total                     
        p_B = len(passed) / total                         
        p_B_given_A = len(both) / len(studied_2h) 
        p_A_given_B = (p_B_given_A * p_A) / p_B           
        print("P(Study >2h | Passed):", round(p_A_given_B, 4))

      elif ch == '0':
        print("exiting the menu !!")
        break
